{
 "cells": [
  {
   "cell_type": "code",
   "execution_count": 1,
   "id": "52550e3f-e87d-4d66-a116-02e729186108",
   "metadata": {},
   "outputs": [
    {
     "data": {
      "text/html": [
       "<div>\n",
       "<style scoped>\n",
       "    .dataframe tbody tr th:only-of-type {\n",
       "        vertical-align: middle;\n",
       "    }\n",
       "\n",
       "    .dataframe tbody tr th {\n",
       "        vertical-align: top;\n",
       "    }\n",
       "\n",
       "    .dataframe thead th {\n",
       "        text-align: right;\n",
       "    }\n",
       "</style>\n",
       "<table border=\"1\" class=\"dataframe\">\n",
       "  <thead>\n",
       "    <tr style=\"text-align: right;\">\n",
       "      <th></th>\n",
       "      <th>user_id</th>\n",
       "      <th>install_date</th>\n",
       "      <th>last_active_date</th>\n",
       "      <th>subscription_type</th>\n",
       "      <th>country</th>\n",
       "      <th>total_sessions</th>\n",
       "      <th>page_views</th>\n",
       "      <th>download_clicks</th>\n",
       "      <th>activation_status</th>\n",
       "      <th>days_active</th>\n",
       "      <th>pro_upgrade_date</th>\n",
       "      <th>plan_type</th>\n",
       "      <th>monthly_revenue</th>\n",
       "      <th>churned</th>\n",
       "    </tr>\n",
       "  </thead>\n",
       "  <tbody>\n",
       "    <tr>\n",
       "      <th>0</th>\n",
       "      <td>1</td>\n",
       "      <td>2023-06-29</td>\n",
       "      <td>2023-07-12</td>\n",
       "      <td>Free</td>\n",
       "      <td>UK</td>\n",
       "      <td>3</td>\n",
       "      <td>15</td>\n",
       "      <td>1</td>\n",
       "      <td>1</td>\n",
       "      <td>13</td>\n",
       "      <td>NaN</td>\n",
       "      <td>NaN</td>\n",
       "      <td>0</td>\n",
       "      <td>1</td>\n",
       "    </tr>\n",
       "    <tr>\n",
       "      <th>1</th>\n",
       "      <td>2</td>\n",
       "      <td>2023-04-10</td>\n",
       "      <td>2023-07-25</td>\n",
       "      <td>Free</td>\n",
       "      <td>India</td>\n",
       "      <td>133</td>\n",
       "      <td>665</td>\n",
       "      <td>0</td>\n",
       "      <td>1</td>\n",
       "      <td>106</td>\n",
       "      <td>NaN</td>\n",
       "      <td>NaN</td>\n",
       "      <td>0</td>\n",
       "      <td>0</td>\n",
       "    </tr>\n",
       "    <tr>\n",
       "      <th>2</th>\n",
       "      <td>3</td>\n",
       "      <td>2023-10-25</td>\n",
       "      <td>2023-12-07</td>\n",
       "      <td>Free</td>\n",
       "      <td>USA</td>\n",
       "      <td>53</td>\n",
       "      <td>106</td>\n",
       "      <td>0</td>\n",
       "      <td>1</td>\n",
       "      <td>43</td>\n",
       "      <td>NaN</td>\n",
       "      <td>NaN</td>\n",
       "      <td>0</td>\n",
       "      <td>0</td>\n",
       "    </tr>\n",
       "    <tr>\n",
       "      <th>3</th>\n",
       "      <td>4</td>\n",
       "      <td>2023-08-26</td>\n",
       "      <td>2023-11-09</td>\n",
       "      <td>Pro</td>\n",
       "      <td>Canada</td>\n",
       "      <td>242</td>\n",
       "      <td>242</td>\n",
       "      <td>0</td>\n",
       "      <td>1</td>\n",
       "      <td>75</td>\n",
       "      <td>2023-11-09</td>\n",
       "      <td>Basic</td>\n",
       "      <td>49</td>\n",
       "      <td>0</td>\n",
       "    </tr>\n",
       "    <tr>\n",
       "      <th>4</th>\n",
       "      <td>5</td>\n",
       "      <td>2023-05-14</td>\n",
       "      <td>2023-11-22</td>\n",
       "      <td>Free</td>\n",
       "      <td>UK</td>\n",
       "      <td>12</td>\n",
       "      <td>48</td>\n",
       "      <td>0</td>\n",
       "      <td>1</td>\n",
       "      <td>192</td>\n",
       "      <td>NaN</td>\n",
       "      <td>NaN</td>\n",
       "      <td>0</td>\n",
       "      <td>0</td>\n",
       "    </tr>\n",
       "    <tr>\n",
       "      <th>...</th>\n",
       "      <td>...</td>\n",
       "      <td>...</td>\n",
       "      <td>...</td>\n",
       "      <td>...</td>\n",
       "      <td>...</td>\n",
       "      <td>...</td>\n",
       "      <td>...</td>\n",
       "      <td>...</td>\n",
       "      <td>...</td>\n",
       "      <td>...</td>\n",
       "      <td>...</td>\n",
       "      <td>...</td>\n",
       "      <td>...</td>\n",
       "      <td>...</td>\n",
       "    </tr>\n",
       "    <tr>\n",
       "      <th>995</th>\n",
       "      <td>996</td>\n",
       "      <td>2023-05-20</td>\n",
       "      <td>2023-12-19</td>\n",
       "      <td>Free</td>\n",
       "      <td>India</td>\n",
       "      <td>142</td>\n",
       "      <td>284</td>\n",
       "      <td>1</td>\n",
       "      <td>1</td>\n",
       "      <td>213</td>\n",
       "      <td>NaN</td>\n",
       "      <td>NaN</td>\n",
       "      <td>0</td>\n",
       "      <td>0</td>\n",
       "    </tr>\n",
       "    <tr>\n",
       "      <th>996</th>\n",
       "      <td>997</td>\n",
       "      <td>2023-11-03</td>\n",
       "      <td>2023-12-25</td>\n",
       "      <td>Free</td>\n",
       "      <td>Germany</td>\n",
       "      <td>11</td>\n",
       "      <td>44</td>\n",
       "      <td>0</td>\n",
       "      <td>1</td>\n",
       "      <td>52</td>\n",
       "      <td>NaN</td>\n",
       "      <td>NaN</td>\n",
       "      <td>0</td>\n",
       "      <td>0</td>\n",
       "    </tr>\n",
       "    <tr>\n",
       "      <th>997</th>\n",
       "      <td>998</td>\n",
       "      <td>2023-10-26</td>\n",
       "      <td>2023-11-16</td>\n",
       "      <td>Free</td>\n",
       "      <td>Canada</td>\n",
       "      <td>94</td>\n",
       "      <td>376</td>\n",
       "      <td>0</td>\n",
       "      <td>1</td>\n",
       "      <td>21</td>\n",
       "      <td>NaN</td>\n",
       "      <td>NaN</td>\n",
       "      <td>0</td>\n",
       "      <td>1</td>\n",
       "    </tr>\n",
       "    <tr>\n",
       "      <th>998</th>\n",
       "      <td>999</td>\n",
       "      <td>2023-05-10</td>\n",
       "      <td>2023-06-28</td>\n",
       "      <td>Free</td>\n",
       "      <td>Germany</td>\n",
       "      <td>4</td>\n",
       "      <td>20</td>\n",
       "      <td>0</td>\n",
       "      <td>1</td>\n",
       "      <td>49</td>\n",
       "      <td>NaN</td>\n",
       "      <td>NaN</td>\n",
       "      <td>0</td>\n",
       "      <td>0</td>\n",
       "    </tr>\n",
       "    <tr>\n",
       "      <th>999</th>\n",
       "      <td>1000</td>\n",
       "      <td>2023-05-09</td>\n",
       "      <td>2023-09-25</td>\n",
       "      <td>Free</td>\n",
       "      <td>Germany</td>\n",
       "      <td>100</td>\n",
       "      <td>200</td>\n",
       "      <td>0</td>\n",
       "      <td>1</td>\n",
       "      <td>139</td>\n",
       "      <td>NaN</td>\n",
       "      <td>NaN</td>\n",
       "      <td>0</td>\n",
       "      <td>0</td>\n",
       "    </tr>\n",
       "  </tbody>\n",
       "</table>\n",
       "<p>1000 rows × 14 columns</p>\n",
       "</div>"
      ],
      "text/plain": [
       "     user_id install_date last_active_date subscription_type  country  \\\n",
       "0          1   2023-06-29       2023-07-12              Free       UK   \n",
       "1          2   2023-04-10       2023-07-25              Free    India   \n",
       "2          3   2023-10-25       2023-12-07              Free      USA   \n",
       "3          4   2023-08-26       2023-11-09               Pro   Canada   \n",
       "4          5   2023-05-14       2023-11-22              Free       UK   \n",
       "..       ...          ...              ...               ...      ...   \n",
       "995      996   2023-05-20       2023-12-19              Free    India   \n",
       "996      997   2023-11-03       2023-12-25              Free  Germany   \n",
       "997      998   2023-10-26       2023-11-16              Free   Canada   \n",
       "998      999   2023-05-10       2023-06-28              Free  Germany   \n",
       "999     1000   2023-05-09       2023-09-25              Free  Germany   \n",
       "\n",
       "     total_sessions  page_views  download_clicks  activation_status  \\\n",
       "0                 3          15                1                  1   \n",
       "1               133         665                0                  1   \n",
       "2                53         106                0                  1   \n",
       "3               242         242                0                  1   \n",
       "4                12          48                0                  1   \n",
       "..              ...         ...              ...                ...   \n",
       "995             142         284                1                  1   \n",
       "996              11          44                0                  1   \n",
       "997              94         376                0                  1   \n",
       "998               4          20                0                  1   \n",
       "999             100         200                0                  1   \n",
       "\n",
       "     days_active pro_upgrade_date plan_type  monthly_revenue  churned  \n",
       "0             13              NaN       NaN                0        1  \n",
       "1            106              NaN       NaN                0        0  \n",
       "2             43              NaN       NaN                0        0  \n",
       "3             75       2023-11-09     Basic               49        0  \n",
       "4            192              NaN       NaN                0        0  \n",
       "..           ...              ...       ...              ...      ...  \n",
       "995          213              NaN       NaN                0        0  \n",
       "996           52              NaN       NaN                0        0  \n",
       "997           21              NaN       NaN                0        1  \n",
       "998           49              NaN       NaN                0        0  \n",
       "999          139              NaN       NaN                0        0  \n",
       "\n",
       "[1000 rows x 14 columns]"
      ]
     },
     "execution_count": 1,
     "metadata": {},
     "output_type": "execute_result"
    }
   ],
   "source": [
    "import pandas as pd\n",
    "import numpy as np\n",
    "import seaborn as sns\n",
    "import matplotlib.pyplot as plt\n",
    "import scipy.stats as stats\n",
    "df = pd.read_csv(r\"E:\\internship WPPOOL\\wppool_cleaned_growth_data_sample_20k.csv\")\n",
    "df"
   ]
  },
  {
   "cell_type": "code",
   "execution_count": 2,
   "id": "2c5872d0-f231-4c36-b51b-80040a6be14d",
   "metadata": {},
   "outputs": [],
   "source": [
    "## top 3 factors contributing to churn using correlation or regression analysis.\n",
    "## using correlation\n",
    "correlation_matrix = df.corr(numeric_only=True)"
   ]
  },
  {
   "cell_type": "code",
   "execution_count": 3,
   "id": "7960f175-b57c-44f3-96a1-f5ccf8354f56",
   "metadata": {},
   "outputs": [
    {
     "data": {
      "image/png": "[encoded data removed]",
      "text/plain": [
       "<Figure size 800x500 with 2 Axes>"
      ]
     },
     "metadata": {},
     "output_type": "display_data"
    }
   ],
   "source": [
    "## correlation with churn\n",
    "plt.figure(figsize=(8, 5))\n",
    "sns.heatmap(correlation_matrix[['churned']].sort_values(by='churned', ascending=False), annot=True, cmap=\"coolwarm\")\n",
    "plt.title(\"Correlation of Features with Churn\")\n",
    "plt.show()"
   ]
  },
  {
   "cell_type": "code",
   "execution_count": 4,
   "id": "4180f475-ea3f-4e6c-9bd9-0dbd1559e565",
   "metadata": {},
   "outputs": [
    {
     "name": "stdout",
     "output_type": "stream",
     "text": [
      "Top 3 Factors Contributing to Churn:\n",
      "days_active       0.612409\n",
      "page_views        0.071108\n",
      "total_sessions    0.064425\n",
      "Name: churned, dtype: float64\n"
     ]
    }
   ],
   "source": [
    "## Top 3 correlated features\n",
    "top_factors = correlation_matrix['churned'].drop('churned').abs().sort_values(ascending=False).head(3)\n",
    "print(\"Top 3 Factors Contributing to Churn:\")\n",
    "print(top_factors)"
   ]
  },
  {
   "cell_type": "code",
   "execution_count": 5,
   "id": "9c168e11-9967-4908-a2a6-219591254305",
   "metadata": {},
   "outputs": [
    {
     "name": "stdout",
     "output_type": "stream",
     "text": [
      "\n",
      "Churn Trends by Subscription Type:\n",
      "                   count  sum  churn_rate\n",
      "subscription_type                        \n",
      "Free                 824  234   28.398058\n",
      "Pro                  176   37   21.022727\n"
     ]
    }
   ],
   "source": [
    "#churn trends between free and pro users\n",
    "churn_trends = df.groupby(\"subscription_type\")[\"churned\"].agg([\"count\", \"sum\"])\n",
    "churn_trends[\"churn_rate\"] = (churn_trends[\"sum\"] / churn_trends[\"count\"]) * 100\n",
    "print(\"\\nChurn Trends by Subscription Type:\")\n",
    "print(churn_trends.sort_values(by=\"churn_rate\", ascending=False))"
   ]
  },
  {
   "cell_type": "code",
   "execution_count": 6,
   "id": "45180059-f707-4bff-bf30-119fc270f5f6",
   "metadata": {},
   "outputs": [
    {
     "name": "stdout",
     "output_type": "stream",
     "text": [
      "Percentage of users who upgraded from Free to Pro: 21.36%\n"
     ]
    }
   ],
   "source": [
    "## Revenue & Upgrade Trends\n",
    "## Percentage of users upgraded from Free to Pro\n",
    "\n",
    "## count of total users who started as free\n",
    "total_free_users = df[df[\"subscription_type\"] == \"Free\"].shape[0]\n",
    "\n",
    "## count of users who upgraded\n",
    "upgraded_users = df[df[\"pro_upgrade_date\"].notna()].shape[0]\n",
    "\n",
    "## upgrade percentage\n",
    "upgrade_percentage = (upgraded_users / total_free_users) * 100 if total_free_users > 0 else 0\n",
    "print(f\"Percentage of users who upgraded from Free to Pro: {upgrade_percentage:.2f}%\")"
   ]
  },
  {
   "cell_type": "code",
   "execution_count": 7,
   "id": "2727a1f4-16a2-460c-8114-2f8c0e3f1bfc",
   "metadata": {},
   "outputs": [
    {
     "name": "stdout",
     "output_type": "stream",
     "text": [
      "Total monthly revenue from Pro users: $9924.000000\n"
     ]
    }
   ],
   "source": [
    "##Calculate the total monthly revenue from Pro users\n",
    "total_monthly_revenue = df[df[\"subscription_type\"] == \"Pro\"][\"monthly_revenue\"].sum()\n",
    "print(f\"Total monthly revenue from Pro users: ${total_monthly_revenue:2f}\")"
   ]
  },
  {
   "cell_type": "code",
   "execution_count": 8,
   "id": "7ecc7be5-f314-4d60-acae-9d7ec2837e02",
   "metadata": {},
   "outputs": [
    {
     "name": "stdout",
     "output_type": "stream",
     "text": [
      "Revenue contribution by Pro plan type:\n",
      "plan_type\n",
      "Basic         2918\n",
      "Enterprise    3580\n",
      "Standard      3426\n",
      "\n",
      "The Pro plan contributing the most revenue is Enterprise with $3580.00\n"
     ]
    }
   ],
   "source": [
    "# Calculate revenue by Pro plan type\n",
    "pro_revenue_by_plan = df[df[\"subscription_type\"] == \"Pro\"].groupby(\"plan_type\")[\"monthly_revenue\"].sum()\n",
    "\n",
    "# Identify the most profitable plan\n",
    "most_profitable_plan = pro_revenue_by_plan.idxmax()\n",
    "most_profitable_revenue = pro_revenue_by_plan.max()\n",
    "\n",
    "# Print revenue for all Pro plan types\n",
    "print(\"Revenue contribution by Pro plan type:\")\n",
    "print(pro_revenue_by_plan.to_string())\n",
    "\n",
    "# Highlight the most profitable plan\n",
    "print(f\"\\nThe Pro plan contributing the most revenue is {most_profitable_plan} with ${most_profitable_revenue:.2f}\")\n"
   ]
  },
  {
   "cell_type": "code",
   "execution_count": 11,
   "id": "b5d4a38f-a4e7-41cf-8150-9c2703015ee1",
   "metadata": {},
   "outputs": [
    {
     "name": "stdout",
     "output_type": "stream",
     "text": [
      "\n",
      "Average upgrade time by country:\n",
      "country\n",
      "UK            68\n",
      "Australia     81\n",
      "France        92\n",
      "Germany       93\n",
      "India         99\n",
      "Canada       112\n",
      "USA          117\n",
      "Name: upgrade_time, dtype: int32\n",
      "\n",
      "Average upgrade time by engagement level:\n",
      "engagement_level\n",
      "Medium        86\n",
      "High          98\n",
      "Very High     99\n",
      "Low          101\n",
      "Name: upgrade_time, dtype: int32\n"
     ]
    }
   ],
   "source": [
    "# Analyze upgrade time based on country and engagement level\n",
    "df[\"install_date\"] = pd.to_datetime(df[\"install_date\"])\n",
    "df[\"pro_upgrade_date\"] = pd.to_datetime(df[\"pro_upgrade_date\"])\n",
    "df[\"upgrade_time\"] = (df[\"pro_upgrade_date\"] - df[\"install_date\"]).dt.days\n",
    "\n",
    "# Group by country and calculate average upgrade time (rounded)\n",
    "upgrade_time_by_country = (\n",
    "    df[df[\"upgrade_time\"].notna()]\n",
    "    .groupby(\"country\", observed=False)[\"upgrade_time\"]\n",
    "    .mean()\n",
    "    .round(0)\n",
    "    .astype(int)\n",
    "    .sort_values()\n",
    ")\n",
    "\n",
    "# Group by engagement level (e.g., total_sessions) and calculate average upgrade time (rounded)\n",
    "engagement_bins = pd.qcut(df[\"total_sessions\"], q=4, labels=[\"Low\", \"Medium\", \"High\", \"Very High\"])\n",
    "df[\"engagement_level\"] = engagement_bins\n",
    "upgrade_time_by_engagement = (\n",
    "    df[df[\"upgrade_time\"].notna()]\n",
    "    .groupby(\"engagement_level\", observed=False)[\"upgrade_time\"]\n",
    "    .mean()\n",
    "    .round(0)\n",
    "    .astype(int)\n",
    "    .sort_values()\n",
    ")\n",
    "\n",
    "print(\"\\nAverage upgrade time by country:\")\n",
    "print(upgrade_time_by_country)\n",
    "print(\"\\nAverage upgrade time by engagement level:\")\n",
    "print(upgrade_time_by_engagement)\n"
   ]
  },
  {
   "cell_type": "code",
   "execution_count": 18,
   "id": "b74c640e-8a9e-40b5-8c05-f1a022dbcea9",
   "metadata": {},
   "outputs": [
    {
     "name": "stdout",
     "output_type": "stream",
     "text": [
      "{'Current Free Users': 5000, 'New Free Users': 5500, 'Current Pro Upgrades': 400, 'New Pro Upgrades': 440, 'Increase in Pro Upgrades': 40}\n"
     ]
    }
   ],
   "source": [
    "## If WPPOOL increases the landing page conversion rate by 10%, what would be the estimated impact on Pro upgrades?\n",
    "def estimate_pro_upgrades(visitor_count, landing_conversion_rate, upgrade_rate, increase_percent=10):\n",
    "   \n",
    "    # Current number of Free users per month\n",
    "    current_free_users = visitor_count * landing_conversion_rate\n",
    "    \n",
    "    # New conversion rate after increase\n",
    "    new_conversion_rate = landing_conversion_rate * (1 + increase_percent / 100)\n",
    "    \n",
    "    # New Free users per month\n",
    "    new_free_users = visitor_count * new_conversion_rate\n",
    "    \n",
    "    # Current and new Pro upgrades\n",
    "    current_pro_upgrades = current_free_users * upgrade_rate\n",
    "    new_pro_upgrades = new_free_users * upgrade_rate\n",
    "    \n",
    "    # Increase in Pro upgrades\n",
    "    pro_upgrade_increase = new_pro_upgrades - current_pro_upgrades\n",
    "    \n",
    "    return {\n",
    "        \"Current Free Users\": round(current_free_users),\n",
    "        \"New Free Users\": round(new_free_users),\n",
    "        \"Current Pro Upgrades\": round(current_pro_upgrades),\n",
    "        \"New Pro Upgrades\": round(new_pro_upgrades),\n",
    "        \"Increase in Pro Upgrades\": round(pro_upgrade_increase)\n",
    "    }\n",
    "\n",
    "# Example usage\n",
    "visitor_count = 100000  # Monthly visitors\n",
    "landing_conversion_rate = 0.05  # 5% conversion rate\n",
    "upgrade_rate = 0.08  # 8% Free-to-Pro conversion rate\n",
    "increase_percent = 10  # 10% boost in landing page conversion rate\n",
    "\n",
    "impact = estimate_pro_upgrades(visitor_count, landing_conversion_rate, upgrade_rate, increase_percent)\n",
    "print(impact)"
   ]
  },
  {
   "cell_type": "code",
   "execution_count": 21,
   "id": "5104bad7-7a5d-405b-a073-1ae3da62f5d0",
   "metadata": {},
   "outputs": [
    {
     "name": "stdout",
     "output_type": "stream",
     "text": [
      "{'Chi-Square Statistic': 17.812157558127954, 'P-Value': 2.438203400902426e-05, 'Degrees of Freedom': 1, 'Expected Frequencies': array([[ 2650., 47350.],\n",
      "       [ 2650., 47350.]])}\n"
     ]
    }
   ],
   "source": [
    "##Run a simple A/B test simulation (e.g., using a chi-square test) to evaluate conversion optimization.\n",
    "def run_ab_test(control_conversions, control_visitors, test_conversions, test_visitors):\n",
    "    \"\"\"\n",
    "    Perform a chi-square test to evaluate A/B test results.\n",
    "    \n",
    "    :param control_conversions: Number of conversions in control group\n",
    "    :param control_visitors: Number of visitors in control group\n",
    "    :param test_conversions: Number of conversions in test group\n",
    "    :param test_visitors: Number of visitors in test group\n",
    "    :return: p-value from the chi-square test\n",
    "    \"\"\"\n",
    "    # Create a contingency table\n",
    "    contingency_table = [[control_conversions, control_visitors - control_conversions],\n",
    "                         [test_conversions, test_visitors - test_conversions]]\n",
    "    \n",
    "    # Perform chi-square test\n",
    "    chi2, p, dof, expected = stats.chi2_contingency(contingency_table)\n",
    "    \n",
    "    return {\n",
    "        \"Chi-Square Statistic\": chi2,\n",
    "        \"P-Value\": p,\n",
    "        \"Degrees of Freedom\": dof,\n",
    "        \"Expected Frequencies\": expected\n",
    "    }\n",
    "# Example A/B test scenario\n",
    "control_conversions = 2500\n",
    "control_visitors = 50000\n",
    "\n",
    "test_conversions = 2800\n",
    "test_visitors = 50000\n",
    "\n",
    "ab_test_results = run_ab_test(control_conversions, control_visitors, test_conversions, test_visitors)\n",
    "print(ab_test_results)"
   ]
  },
  {
   "cell_type": "code",
   "execution_count": 23,
   "id": "a25be47b-2a09-4f0c-99be-253974f7be7e",
   "metadata": {},
   "outputs": [
    {
     "name": "stdout",
     "output_type": "stream",
     "text": [
      "Churn Rate: 21.02%\n"
     ]
    }
   ],
   "source": [
    "# 3 KPIs to track 1. Churn_rate\n",
    "# Count total Pro users\n",
    "total_pro_users = df[df[\"subscription_type\"] == \"Pro\"].shape[0]\n",
    "\n",
    "# Count churned Pro users using the 'churned' column\n",
    "if \"churned\" in df.columns:\n",
    "    churned_users = df[(df[\"subscription_type\"] == \"Pro\") & (df[\"churned\"] == 1)].shape[0]\n",
    "else:\n",
    "    churned_users = 0  # Default to 0 if column is missing\n",
    "\n",
    "# Calculate churn rate\n",
    "churn_rate = (churned_users / total_pro_users) * 100 if total_pro_users > 0 else 0\n",
    "\n",
    "print(f\"Churn Rate: {churn_rate:.2f}%\")\n"
   ]
  },
  {
   "cell_type": "code",
   "execution_count": 25,
   "id": "1c0daa76-d009-47e1-b4ec-14cec8078b7a",
   "metadata": {},
   "outputs": [
    {
     "name": "stdout",
     "output_type": "stream",
     "text": [
      "Customer Lifetime Value (CLV): $182.03\n"
     ]
    }
   ],
   "source": [
    "# 2. Customer Lifetime Value\n",
    "# Calculate Average Revenue Per User (ARPU)\n",
    "average_revenue_per_user = df[df[\"subscription_type\"] == \"Pro\"][\"monthly_revenue\"].mean()\n",
    "\n",
    "# Estimate subscription duration using 'days_active' for Pro users\n",
    "if \"days_active\" in df.columns:\n",
    "    estimated_subscription_duration_months = df[df[\"subscription_type\"] == \"Pro\"][\"days_active\"].mean() / 30  # Convert days to months\n",
    "else:\n",
    "    estimated_subscription_duration_months = 0\n",
    "\n",
    "# Calculate Customer Lifetime Value (CLV)\n",
    "clv = average_revenue_per_user * estimated_subscription_duration_months if estimated_subscription_duration_months else 0\n",
    "\n",
    "print(f\"Customer Lifetime Value (CLV): ${clv:.2f}\")\n"
   ]
  },
  {
   "cell_type": "code",
   "execution_count": 27,
   "id": "ecc6ce85-18fa-479f-938b-bb7920304b0c",
   "metadata": {},
   "outputs": [
    {
     "name": "stdout",
     "output_type": "stream",
     "text": [
      "Free-to-Pro Conversion Rate: 21.36%\n"
     ]
    }
   ],
   "source": [
    "# 3. Free to Pro conversion rate\n",
    "# Calculate Free-to-Pro Conversion Rate\n",
    "def calculate_free_to_pro_conversion(df):\n",
    "    total_free_users = df[df[\"subscription_type\"] == \"Free\"].shape[0]\n",
    "    upgraded_users = df[df[\"pro_upgrade_date\"].notna()].shape[0]\n",
    "    \n",
    "    free_to_pro_conversion_rate = (upgraded_users / total_free_users) * 100 if total_free_users > 0 else 0\n",
    "    return round(free_to_pro_conversion_rate, 2)  # Rounded to 2 decimal places\n",
    "\n",
    "# Run calculation\n",
    "conversion_rate = calculate_free_to_pro_conversion(df)\n",
    "\n",
    "# Print result\n",
    "print(f\"Free-to-Pro Conversion Rate: {conversion_rate}%\")\n"
   ]
  },
  {
   "cell_type": "code",
   "execution_count": null,
   "id": "0a1030fd-a328-491c-b9e0-3e82a6538b07",
   "metadata": {},
   "outputs": [],
   "source": []
  }
 ],
 "metadata": {
  "kernelspec": {
   "display_name": "Python [conda env:base] *",
   "language": "python",
   "name": "conda-base-py"
  },
  "language_info": {
   "codemirror_mode": {
    "name": "ipython",
    "version": 3
   },
   "file_extension": ".py",
   "mimetype": "text/x-python",
   "name": "python",
   "nbconvert_exporter": "python",
   "pygments_lexer": "ipython3",
   "version": "3.12.7"
  }
 },
 "nbformat": 4,
 "nbformat_minor": 5
}
