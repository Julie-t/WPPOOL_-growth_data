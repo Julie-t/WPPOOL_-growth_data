{
 "cells": [
  {
   "cell_type": "code",
   "execution_count": 2,
   "id": "834e09d0",
   "metadata": {},
   "outputs": [],
   "source": [
    "# importing necessary libraries\n",
    "import pandas as pd\n",
    "import numpy as np\n",
    "import matplotlib.pyplot as plt\n",
    "import seaborn as sns\n",
    "import scipy.stats as stats"
   ]
  },
  {
   "cell_type": "code",
   "execution_count": 3,
   "id": "2fbe217f",
   "metadata": {},
   "outputs": [
    {
     "data": {
      "text/html": [
       "<div>\n",
       "<style scoped>\n",
       "    .dataframe tbody tr th:only-of-type {\n",
       "        vertical-align: middle;\n",
       "    }\n",
       "\n",
       "    .dataframe tbody tr th {\n",
       "        vertical-align: top;\n",
       "    }\n",
       "\n",
       "    .dataframe thead th {\n",
       "        text-align: right;\n",
       "    }\n",
       "</style>\n",
       "<table border=\"1\" class=\"dataframe\">\n",
       "  <thead>\n",
       "    <tr style=\"text-align: right;\">\n",
       "      <th></th>\n",
       "      <th>user_id</th>\n",
       "      <th>install_date</th>\n",
       "      <th>last_active_date</th>\n",
       "      <th>subscription_type</th>\n",
       "      <th>country</th>\n",
       "      <th>total_sessions</th>\n",
       "      <th>page_views</th>\n",
       "      <th>download_clicks</th>\n",
       "      <th>activation_status</th>\n",
       "      <th>days_active</th>\n",
       "      <th>pro_upgrade_date</th>\n",
       "      <th>plan_type</th>\n",
       "      <th>monthly_revenue</th>\n",
       "      <th>churned</th>\n",
       "    </tr>\n",
       "  </thead>\n",
       "  <tbody>\n",
       "    <tr>\n",
       "      <th>0</th>\n",
       "      <td>1</td>\n",
       "      <td>6/29/2023</td>\n",
       "      <td>7/12/2023</td>\n",
       "      <td>Free</td>\n",
       "      <td>UK</td>\n",
       "      <td>3</td>\n",
       "      <td>15</td>\n",
       "      <td>1</td>\n",
       "      <td>1</td>\n",
       "      <td>13</td>\n",
       "      <td>NaN</td>\n",
       "      <td>NaN</td>\n",
       "      <td>0</td>\n",
       "      <td>1</td>\n",
       "    </tr>\n",
       "    <tr>\n",
       "      <th>1</th>\n",
       "      <td>2</td>\n",
       "      <td>4/10/2023</td>\n",
       "      <td>7/25/2023</td>\n",
       "      <td>Free</td>\n",
       "      <td>India</td>\n",
       "      <td>133</td>\n",
       "      <td>665</td>\n",
       "      <td>0</td>\n",
       "      <td>1</td>\n",
       "      <td>106</td>\n",
       "      <td>NaN</td>\n",
       "      <td>NaN</td>\n",
       "      <td>0</td>\n",
       "      <td>0</td>\n",
       "    </tr>\n",
       "    <tr>\n",
       "      <th>2</th>\n",
       "      <td>3</td>\n",
       "      <td>10/25/2023</td>\n",
       "      <td>12/7/2023</td>\n",
       "      <td>Free</td>\n",
       "      <td>USA</td>\n",
       "      <td>53</td>\n",
       "      <td>106</td>\n",
       "      <td>0</td>\n",
       "      <td>1</td>\n",
       "      <td>43</td>\n",
       "      <td>NaN</td>\n",
       "      <td>NaN</td>\n",
       "      <td>0</td>\n",
       "      <td>0</td>\n",
       "    </tr>\n",
       "    <tr>\n",
       "      <th>3</th>\n",
       "      <td>4</td>\n",
       "      <td>8/26/2023</td>\n",
       "      <td>11/9/2023</td>\n",
       "      <td>Pro</td>\n",
       "      <td>Canada</td>\n",
       "      <td>242</td>\n",
       "      <td>242</td>\n",
       "      <td>0</td>\n",
       "      <td>1</td>\n",
       "      <td>75</td>\n",
       "      <td>11/9/2023</td>\n",
       "      <td>Basic</td>\n",
       "      <td>49</td>\n",
       "      <td>0</td>\n",
       "    </tr>\n",
       "    <tr>\n",
       "      <th>4</th>\n",
       "      <td>5</td>\n",
       "      <td>5/14/2023</td>\n",
       "      <td>11/22/2023</td>\n",
       "      <td>Free</td>\n",
       "      <td>UK</td>\n",
       "      <td>12</td>\n",
       "      <td>48</td>\n",
       "      <td>0</td>\n",
       "      <td>1</td>\n",
       "      <td>192</td>\n",
       "      <td>NaN</td>\n",
       "      <td>NaN</td>\n",
       "      <td>0</td>\n",
       "      <td>0</td>\n",
       "    </tr>\n",
       "    <tr>\n",
       "      <th>...</th>\n",
       "      <td>...</td>\n",
       "      <td>...</td>\n",
       "      <td>...</td>\n",
       "      <td>...</td>\n",
       "      <td>...</td>\n",
       "      <td>...</td>\n",
       "      <td>...</td>\n",
       "      <td>...</td>\n",
       "      <td>...</td>\n",
       "      <td>...</td>\n",
       "      <td>...</td>\n",
       "      <td>...</td>\n",
       "      <td>...</td>\n",
       "      <td>...</td>\n",
       "    </tr>\n",
       "    <tr>\n",
       "      <th>19995</th>\n",
       "      <td>19996</td>\n",
       "      <td>5/6/2023</td>\n",
       "      <td>9/29/2023</td>\n",
       "      <td>Free</td>\n",
       "      <td>USA</td>\n",
       "      <td>100</td>\n",
       "      <td>300</td>\n",
       "      <td>0</td>\n",
       "      <td>1</td>\n",
       "      <td>146</td>\n",
       "      <td>NaN</td>\n",
       "      <td>NaN</td>\n",
       "      <td>0</td>\n",
       "      <td>0</td>\n",
       "    </tr>\n",
       "    <tr>\n",
       "      <th>19996</th>\n",
       "      <td>19997</td>\n",
       "      <td>9/4/2023</td>\n",
       "      <td>9/21/2023</td>\n",
       "      <td>Pro</td>\n",
       "      <td>Germany</td>\n",
       "      <td>93</td>\n",
       "      <td>372</td>\n",
       "      <td>0</td>\n",
       "      <td>1</td>\n",
       "      <td>17</td>\n",
       "      <td>9/21/2023</td>\n",
       "      <td>Basic</td>\n",
       "      <td>49</td>\n",
       "      <td>1</td>\n",
       "    </tr>\n",
       "    <tr>\n",
       "      <th>19997</th>\n",
       "      <td>19998</td>\n",
       "      <td>4/1/2023</td>\n",
       "      <td>6/14/2023</td>\n",
       "      <td>Free</td>\n",
       "      <td>India</td>\n",
       "      <td>37</td>\n",
       "      <td>185</td>\n",
       "      <td>0</td>\n",
       "      <td>1</td>\n",
       "      <td>74</td>\n",
       "      <td>NaN</td>\n",
       "      <td>NaN</td>\n",
       "      <td>0</td>\n",
       "      <td>0</td>\n",
       "    </tr>\n",
       "    <tr>\n",
       "      <th>19998</th>\n",
       "      <td>19999</td>\n",
       "      <td>1/28/2023</td>\n",
       "      <td>12/26/2023</td>\n",
       "      <td>Pro</td>\n",
       "      <td>Australia</td>\n",
       "      <td>99</td>\n",
       "      <td>198</td>\n",
       "      <td>0</td>\n",
       "      <td>1</td>\n",
       "      <td>332</td>\n",
       "      <td>12/26/2023</td>\n",
       "      <td>Enterprise</td>\n",
       "      <td>29</td>\n",
       "      <td>0</td>\n",
       "    </tr>\n",
       "    <tr>\n",
       "      <th>19999</th>\n",
       "      <td>20000</td>\n",
       "      <td>12/31/2023</td>\n",
       "      <td>1/1/2024</td>\n",
       "      <td>Free</td>\n",
       "      <td>Canada</td>\n",
       "      <td>141</td>\n",
       "      <td>282</td>\n",
       "      <td>0</td>\n",
       "      <td>1</td>\n",
       "      <td>1</td>\n",
       "      <td>NaN</td>\n",
       "      <td>NaN</td>\n",
       "      <td>0</td>\n",
       "      <td>1</td>\n",
       "    </tr>\n",
       "  </tbody>\n",
       "</table>\n",
       "<p>20000 rows × 14 columns</p>\n",
       "</div>"
      ],
      "text/plain": [
       "       user_id install_date last_active_date subscription_type    country  \\\n",
       "0            1    6/29/2023        7/12/2023              Free         UK   \n",
       "1            2    4/10/2023        7/25/2023              Free      India   \n",
       "2            3   10/25/2023        12/7/2023              Free        USA   \n",
       "3            4    8/26/2023        11/9/2023               Pro     Canada   \n",
       "4            5    5/14/2023       11/22/2023              Free         UK   \n",
       "...        ...          ...              ...               ...        ...   \n",
       "19995    19996     5/6/2023        9/29/2023              Free        USA   \n",
       "19996    19997     9/4/2023        9/21/2023               Pro    Germany   \n",
       "19997    19998     4/1/2023        6/14/2023              Free      India   \n",
       "19998    19999    1/28/2023       12/26/2023               Pro  Australia   \n",
       "19999    20000   12/31/2023         1/1/2024              Free     Canada   \n",
       "\n",
       "       total_sessions  page_views  download_clicks  activation_status  \\\n",
       "0                   3          15                1                  1   \n",
       "1                 133         665                0                  1   \n",
       "2                  53         106                0                  1   \n",
       "3                 242         242                0                  1   \n",
       "4                  12          48                0                  1   \n",
       "...               ...         ...              ...                ...   \n",
       "19995             100         300                0                  1   \n",
       "19996              93         372                0                  1   \n",
       "19997              37         185                0                  1   \n",
       "19998              99         198                0                  1   \n",
       "19999             141         282                0                  1   \n",
       "\n",
       "       days_active pro_upgrade_date   plan_type  monthly_revenue  churned  \n",
       "0               13              NaN         NaN                0        1  \n",
       "1              106              NaN         NaN                0        0  \n",
       "2               43              NaN         NaN                0        0  \n",
       "3               75        11/9/2023       Basic               49        0  \n",
       "4              192              NaN         NaN                0        0  \n",
       "...            ...              ...         ...              ...      ...  \n",
       "19995          146              NaN         NaN                0        0  \n",
       "19996           17        9/21/2023       Basic               49        1  \n",
       "19997           74              NaN         NaN                0        0  \n",
       "19998          332       12/26/2023  Enterprise               29        0  \n",
       "19999            1              NaN         NaN                0        1  \n",
       "\n",
       "[20000 rows x 14 columns]"
      ]
     },
     "execution_count": 3,
     "metadata": {},
     "output_type": "execute_result"
    }
   ],
   "source": [
    "df = pd.read_csv('wppool_growth_data_sample_20k.csv')\n",
    "df"
   ]
  },
  {
   "cell_type": "code",
   "execution_count": 4,
   "id": "71c25591",
   "metadata": {},
   "outputs": [
    {
     "name": "stdout",
     "output_type": "stream",
     "text": [
      "<class 'pandas.core.frame.DataFrame'>\n",
      "RangeIndex: 20000 entries, 0 to 19999\n",
      "Data columns (total 14 columns):\n",
      " #   Column             Non-Null Count  Dtype \n",
      "---  ------             --------------  ----- \n",
      " 0   user_id            20000 non-null  int64 \n",
      " 1   install_date       20000 non-null  object\n",
      " 2   last_active_date   20000 non-null  object\n",
      " 3   subscription_type  20000 non-null  object\n",
      " 4   country            20000 non-null  object\n",
      " 5   total_sessions     20000 non-null  int64 \n",
      " 6   page_views         20000 non-null  int64 \n",
      " 7   download_clicks    20000 non-null  int64 \n",
      " 8   activation_status  20000 non-null  int64 \n",
      " 9   days_active        20000 non-null  int64 \n",
      " 10  pro_upgrade_date   4029 non-null   object\n",
      " 11  plan_type          4029 non-null   object\n",
      " 12  monthly_revenue    20000 non-null  int64 \n",
      " 13  churned            20000 non-null  int64 \n",
      "dtypes: int64(8), object(6)\n",
      "memory usage: 2.1+ MB\n"
     ]
    }
   ],
   "source": [
    "df.info()"
   ]
  },
  {
   "cell_type": "markdown",
   "id": "87f84208",
   "metadata": {},
   "source": [
    "## Data Cleaning"
   ]
  },
  {
   "cell_type": "code",
   "execution_count": 5,
   "id": "418b1241",
   "metadata": {},
   "outputs": [
    {
     "data": {
      "text/plain": [
       "Index(['user_id', 'install_date', 'last_active_date', 'subscription_type',\n",
       "       'country', 'total_sessions', 'page_views', 'download_clicks',\n",
       "       'activation_status', 'days_active', 'pro_upgrade_date', 'plan_type',\n",
       "       'monthly_revenue', 'churned'],\n",
       "      dtype='object')"
      ]
     },
     "execution_count": 5,
     "metadata": {},
     "output_type": "execute_result"
    }
   ],
   "source": [
    "df.columns"
   ]
  },
  {
   "cell_type": "code",
   "execution_count": 6,
   "id": "eec7c88c",
   "metadata": {},
   "outputs": [
    {
     "name": "stdout",
     "output_type": "stream",
     "text": [
      "<class 'pandas.core.frame.DataFrame'>\n",
      "RangeIndex: 20000 entries, 0 to 19999\n",
      "Data columns (total 14 columns):\n",
      " #   Column             Non-Null Count  Dtype \n",
      "---  ------             --------------  ----- \n",
      " 0   user_id            20000 non-null  int64 \n",
      " 1   install_date       20000 non-null  object\n",
      " 2   last_active_date   20000 non-null  object\n",
      " 3   subscription_type  20000 non-null  object\n",
      " 4   country            20000 non-null  object\n",
      " 5   total_sessions     20000 non-null  int64 \n",
      " 6   page_views         20000 non-null  int64 \n",
      " 7   download_clicks    20000 non-null  int64 \n",
      " 8   activation_status  20000 non-null  int64 \n",
      " 9   days_active        20000 non-null  int64 \n",
      " 10  pro_upgrade_date   4029 non-null   object\n",
      " 11  plan_type          20000 non-null  object\n",
      " 12  monthly_revenue    20000 non-null  int64 \n",
      " 13  churned            20000 non-null  int64 \n",
      "dtypes: int64(8), object(6)\n",
      "memory usage: 2.1+ MB\n"
     ]
    }
   ],
   "source": [
    "df['plan_type'] = df['plan_type'].fillna('unknown')\n",
    "df.info()"
   ]
  },
  {
   "cell_type": "code",
   "execution_count": 7,
   "id": "6318881d",
   "metadata": {},
   "outputs": [],
   "source": [
    "# pro_upgrade_date to datetime format\n",
    "df['pro_upgrade_date'] = pd.to_datetime(df['pro_upgrade_date'], errors = 'coerce')\n"
   ]
  },
  {
   "cell_type": "code",
   "execution_count": 8,
   "id": "46d7c44c",
   "metadata": {},
   "outputs": [],
   "source": [
    "# create a flag for users who upgraded to Pro\n",
    "df['upgraded_to_pro'] = df['pro_upgrade_date'].notnull()"
   ]
  },
  {
   "cell_type": "code",
   "execution_count": 9,
   "id": "03cab91e",
   "metadata": {},
   "outputs": [
    {
     "name": "stdout",
     "output_type": "stream",
     "text": [
      "  pro_upgrade_date  upgraded_to_pro\n",
      "0              NaT            False\n",
      "1              NaT            False\n",
      "2              NaT            False\n",
      "3       2023-11-09             True\n",
      "4              NaT            False\n"
     ]
    }
   ],
   "source": [
    "print(df[['pro_upgrade_date', 'upgraded_to_pro']].head())"
   ]
  },
  {
   "cell_type": "code",
   "execution_count": 10,
   "id": "355067d1",
   "metadata": {},
   "outputs": [
    {
     "name": "stdout",
     "output_type": "stream",
     "text": [
      "<class 'pandas.core.frame.DataFrame'>\n",
      "RangeIndex: 20000 entries, 0 to 19999\n",
      "Data columns (total 15 columns):\n",
      " #   Column             Non-Null Count  Dtype         \n",
      "---  ------             --------------  -----         \n",
      " 0   user_id            20000 non-null  int64         \n",
      " 1   install_date       20000 non-null  datetime64[ns]\n",
      " 2   last_active_date   20000 non-null  datetime64[ns]\n",
      " 3   subscription_type  20000 non-null  object        \n",
      " 4   country            20000 non-null  object        \n",
      " 5   total_sessions     20000 non-null  int64         \n",
      " 6   page_views         20000 non-null  int64         \n",
      " 7   download_clicks    20000 non-null  int64         \n",
      " 8   activation_status  20000 non-null  int64         \n",
      " 9   days_active        20000 non-null  int64         \n",
      " 10  pro_upgrade_date   4029 non-null   datetime64[ns]\n",
      " 11  plan_type          20000 non-null  object        \n",
      " 12  monthly_revenue    20000 non-null  int64         \n",
      " 13  churned            20000 non-null  int64         \n",
      " 14  upgraded_to_pro    20000 non-null  bool          \n",
      "dtypes: bool(1), datetime64[ns](3), int64(8), object(3)\n",
      "memory usage: 2.2+ MB\n"
     ]
    }
   ],
   "source": [
    "# changing date columns to datetime\n",
    "df['install_date'] = pd.to_datetime(df['install_date'], errors = 'coerce')\n",
    "df['last_active_date'] = pd.to_datetime(df['last_active_date'], errors='coerce')\n",
    "df.info()\n"
   ]
  },
  {
   "cell_type": "markdown",
   "id": "e0ddddb1",
   "metadata": {},
   "source": [
    "## Data Exploration"
   ]
  },
  {
   "cell_type": "markdown",
   "id": "5f25e738",
   "metadata": {},
   "source": [
    "### User engagement Analysis\n",
    "1. Average Sessions per user type"
   ]
  },
  {
   "cell_type": "code",
   "execution_count": 11,
   "id": "cdfc8bf0",
   "metadata": {},
   "outputs": [
    {
     "data": {
      "text/html": [
       "<div>\n",
       "<style scoped>\n",
       "    .dataframe tbody tr th:only-of-type {\n",
       "        vertical-align: middle;\n",
       "    }\n",
       "\n",
       "    .dataframe tbody tr th {\n",
       "        vertical-align: top;\n",
       "    }\n",
       "\n",
       "    .dataframe thead th {\n",
       "        text-align: right;\n",
       "    }\n",
       "</style>\n",
       "<table border=\"1\" class=\"dataframe\">\n",
       "  <thead>\n",
       "    <tr style=\"text-align: right;\">\n",
       "      <th></th>\n",
       "      <th>subscription_type</th>\n",
       "      <th>total_sessions</th>\n",
       "    </tr>\n",
       "  </thead>\n",
       "  <tbody>\n",
       "    <tr>\n",
       "      <th>0</th>\n",
       "      <td>Free</td>\n",
       "      <td>76.081210</td>\n",
       "    </tr>\n",
       "    <tr>\n",
       "      <th>1</th>\n",
       "      <td>Pro</td>\n",
       "      <td>154.677836</td>\n",
       "    </tr>\n",
       "  </tbody>\n",
       "</table>\n",
       "</div>"
      ],
      "text/plain": [
       "  subscription_type  total_sessions\n",
       "0              Free       76.081210\n",
       "1               Pro      154.677836"
      ]
     },
     "execution_count": 11,
     "metadata": {},
     "output_type": "execute_result"
    }
   ],
   "source": [
    "# average sessions per type user\n",
    "avg_sessions_by_plan = df.groupby('subscription_type')['total_sessions'].mean().reset_index()\n",
    "\n",
    "avg_sessions_by_plan"
   ]
  },
  {
   "cell_type": "markdown",
   "id": "ef0e685b",
   "metadata": {},
   "source": [
    "2. Top 5 most active users(based on total sessions)"
   ]
  },
  {
   "cell_type": "code",
   "execution_count": 12,
   "id": "c1fd2e08",
   "metadata": {},
   "outputs": [
    {
     "data": {
      "text/html": [
       "<div>\n",
       "<style scoped>\n",
       "    .dataframe tbody tr th:only-of-type {\n",
       "        vertical-align: middle;\n",
       "    }\n",
       "\n",
       "    .dataframe tbody tr th {\n",
       "        vertical-align: top;\n",
       "    }\n",
       "\n",
       "    .dataframe thead th {\n",
       "        text-align: right;\n",
       "    }\n",
       "</style>\n",
       "<table border=\"1\" class=\"dataframe\">\n",
       "  <thead>\n",
       "    <tr style=\"text-align: right;\">\n",
       "      <th></th>\n",
       "      <th>user_id</th>\n",
       "      <th>total_sessions</th>\n",
       "    </tr>\n",
       "  </thead>\n",
       "  <tbody>\n",
       "    <tr>\n",
       "      <th>15351</th>\n",
       "      <td>15352</td>\n",
       "      <td>300</td>\n",
       "    </tr>\n",
       "    <tr>\n",
       "      <th>3965</th>\n",
       "      <td>3966</td>\n",
       "      <td>300</td>\n",
       "    </tr>\n",
       "    <tr>\n",
       "      <th>12849</th>\n",
       "      <td>12850</td>\n",
       "      <td>300</td>\n",
       "    </tr>\n",
       "    <tr>\n",
       "      <th>12191</th>\n",
       "      <td>12192</td>\n",
       "      <td>300</td>\n",
       "    </tr>\n",
       "    <tr>\n",
       "      <th>2456</th>\n",
       "      <td>2457</td>\n",
       "      <td>300</td>\n",
       "    </tr>\n",
       "  </tbody>\n",
       "</table>\n",
       "</div>"
      ],
      "text/plain": [
       "       user_id  total_sessions\n",
       "15351    15352             300\n",
       "3965      3966             300\n",
       "12849    12850             300\n",
       "12191    12192             300\n",
       "2456      2457             300"
      ]
     },
     "execution_count": 12,
     "metadata": {},
     "output_type": "execute_result"
    }
   ],
   "source": [
    "most_active_users = df.sort_values(by = 'total_sessions', ascending=False).head(5)\n",
    "\n",
    "most_active_users[['user_id', 'total_sessions']]"
   ]
  },
  {
   "cell_type": "markdown",
   "id": "04d8abc7",
   "metadata": {},
   "source": [
    "3. Top 5 countries with the highest engagement based on total sessions"
   ]
  },
  {
   "cell_type": "code",
   "execution_count": 13,
   "id": "37e028a0",
   "metadata": {},
   "outputs": [
    {
     "data": {
      "text/html": [
       "<div>\n",
       "<style scoped>\n",
       "    .dataframe tbody tr th:only-of-type {\n",
       "        vertical-align: middle;\n",
       "    }\n",
       "\n",
       "    .dataframe tbody tr th {\n",
       "        vertical-align: top;\n",
       "    }\n",
       "\n",
       "    .dataframe thead th {\n",
       "        text-align: right;\n",
       "    }\n",
       "</style>\n",
       "<table border=\"1\" class=\"dataframe\">\n",
       "  <thead>\n",
       "    <tr style=\"text-align: right;\">\n",
       "      <th></th>\n",
       "      <th>country</th>\n",
       "      <th>total_sessions</th>\n",
       "    </tr>\n",
       "  </thead>\n",
       "  <tbody>\n",
       "    <tr>\n",
       "      <th>4</th>\n",
       "      <td>India</td>\n",
       "      <td>272202</td>\n",
       "    </tr>\n",
       "    <tr>\n",
       "      <th>3</th>\n",
       "      <td>Germany</td>\n",
       "      <td>266319</td>\n",
       "    </tr>\n",
       "    <tr>\n",
       "      <th>1</th>\n",
       "      <td>Canada</td>\n",
       "      <td>264217</td>\n",
       "    </tr>\n",
       "    <tr>\n",
       "      <th>6</th>\n",
       "      <td>USA</td>\n",
       "      <td>261635</td>\n",
       "    </tr>\n",
       "    <tr>\n",
       "      <th>2</th>\n",
       "      <td>France</td>\n",
       "      <td>259495</td>\n",
       "    </tr>\n",
       "  </tbody>\n",
       "</table>\n",
       "</div>"
      ],
      "text/plain": [
       "   country  total_sessions\n",
       "4    India          272202\n",
       "3  Germany          266319\n",
       "1   Canada          264217\n",
       "6      USA          261635\n",
       "2   France          259495"
      ]
     },
     "execution_count": 13,
     "metadata": {},
     "output_type": "execute_result"
    }
   ],
   "source": [
    "# group by country and sum total sessions\n",
    "country_engagement = df.groupby('country')['total_sessions'].sum().reset_index()\n",
    "\n",
    "# sort in descending order and take top 5\n",
    "top_5_countries = country_engagement.sort_values(by = 'total_sessions', ascending=False).head(5)\n",
    "\n",
    "top_5_countries"
   ]
  },
  {
   "cell_type": "markdown",
   "id": "2addc406",
   "metadata": {},
   "source": [
    "### Churn Analysis\n",
    "1. Overall Churn Rate"
   ]
  },
  {
   "cell_type": "code",
   "execution_count": 14,
   "id": "0d7b1333",
   "metadata": {},
   "outputs": [
    {
     "data": {
      "text/html": [
       "<div>\n",
       "<style scoped>\n",
       "    .dataframe tbody tr th:only-of-type {\n",
       "        vertical-align: middle;\n",
       "    }\n",
       "\n",
       "    .dataframe tbody tr th {\n",
       "        vertical-align: top;\n",
       "    }\n",
       "\n",
       "    .dataframe thead th {\n",
       "        text-align: right;\n",
       "    }\n",
       "</style>\n",
       "<table border=\"1\" class=\"dataframe\">\n",
       "  <thead>\n",
       "    <tr style=\"text-align: right;\">\n",
       "      <th></th>\n",
       "      <th>subscription_type</th>\n",
       "      <th>churned</th>\n",
       "      <th>churn_rate (%)</th>\n",
       "    </tr>\n",
       "  </thead>\n",
       "  <tbody>\n",
       "    <tr>\n",
       "      <th>0</th>\n",
       "      <td>Free</td>\n",
       "      <td>0.285956</td>\n",
       "      <td>28.595579</td>\n",
       "    </tr>\n",
       "    <tr>\n",
       "      <th>1</th>\n",
       "      <td>Pro</td>\n",
       "      <td>0.282452</td>\n",
       "      <td>28.245222</td>\n",
       "    </tr>\n",
       "  </tbody>\n",
       "</table>\n",
       "</div>"
      ],
      "text/plain": [
       "  subscription_type   churned  churn_rate (%)\n",
       "0              Free  0.285956       28.595579\n",
       "1               Pro  0.282452       28.245222"
      ]
     },
     "execution_count": 14,
     "metadata": {},
     "output_type": "execute_result"
    }
   ],
   "source": [
    "# Calculate churn rate\n",
    "churn_by_suscription = df.groupby('subscription_type')['churned'].mean().reset_index()\n",
    "\n",
    "# convert to a percentage\n",
    "churn_by_suscription['churn_rate (%)'] = churn_by_suscription['churned'] * 100\n",
    "\n",
    "\n",
    "churn_by_suscription"
   ]
  },
  {
   "cell_type": "markdown",
   "id": "c7f8f21f",
   "metadata": {},
   "source": [
    "The churn rate reveals that Free users have a higher churn rate compared to Pro users,indicating that users on the free plan are more likely to discontinue their subscription. This suggests that upgrading to a Pro plan is associated with higher retention"
   ]
  },
  {
   "cell_type": "markdown",
   "id": "a13f84df",
   "metadata": {},
   "source": [
    "2. Top 3 factors Contributing to Churn using correlation"
   ]
  },
  {
   "cell_type": "code",
   "execution_count": 15,
   "id": "51dc4a66",
   "metadata": {},
   "outputs": [
    {
     "data": {
      "image/png": "[encoded data removed]",
      "text/plain": [
       "<Figure size 576x360 with 2 Axes>"
      ]
     },
     "metadata": {
      "needs_background": "light"
     },
     "output_type": "display_data"
    }
   ],
   "source": [
    "# Select only numeric columns\n",
    "numeric_df = df.select_dtypes(include='number')\n",
    "\n",
    "# Compute correlation matrix\n",
    "correlation_matrix = numeric_df.corr()\n",
    "\n",
    "plt.figure(figsize=(8, 5))\n",
    "sns.heatmap(correlation_matrix[['churned']].sort_values(by='churned', ascending=False), annot=True, cmap=\"coolwarm\")\n",
    "plt.title(\"Correlation of Features with Churn\")\n",
    "plt.show()\n"
   ]
  },
  {
   "cell_type": "code",
   "execution_count": 16,
   "id": "2e294b05",
   "metadata": {},
   "outputs": [
    {
     "name": "stdout",
     "output_type": "stream",
     "text": [
      "Top 3 Factors Contributing to Churn:\n",
      "days_active        0.617213\n",
      "user_id            0.012038\n",
      "monthly_revenue    0.008328\n",
      "Name: churned, dtype: float64\n"
     ]
    }
   ],
   "source": [
    "top_factors = correlation_matrix['churned'].drop('churned').abs().sort_values(ascending=False).head(3)\n",
    "print(\"Top 3 Factors Contributing to Churn:\")\n",
    "print(top_factors)"
   ]
  },
  {
   "cell_type": "markdown",
   "id": "f8aa0a8e",
   "metadata": {},
   "source": [
    "Insights from above:\n",
    "**days_active  0.617213**\n",
    "- There is a strong negative correlation\n",
    "- Users who are active for more days are significantly less likely to churn.\n",
    "\n",
    "**user_id 0.012038**\n",
    "- No meaningful correlation\n",
    "\n",
    "**monthly_revenue 0.008328**\n",
    "- There is a very weak correlation\n",
    "- Slight indication that paying users churn less, but not statistically impactful here."
   ]
  },
  {
   "cell_type": "markdown",
   "id": "df4ac3ef",
   "metadata": {},
   "source": [
    "### Revenue & Upgrade Trends\n",
    "1. Percentage of users upgraded from Free to Pro"
   ]
  },
  {
   "cell_type": "code",
   "execution_count": 17,
   "id": "98ea8ec2",
   "metadata": {},
   "outputs": [
    {
     "name": "stdout",
     "output_type": "stream",
     "text": [
      "Total Free users: 15971\n",
      "Total users who upgraded to Pro: 4029\n",
      "Upgrade rate from Free to Pro: 25.23%\n"
     ]
    }
   ],
   "source": [
    "# filter free users\n",
    "free_users = df[df['subscription_type'] == 'Free']\n",
    "\n",
    "# users who upgraded\n",
    "upgraded_users = df[df['pro_upgrade_date'].notna()].shape[0]\n",
    "\n",
    "total_free_users = len(free_users)\n",
    "\n",
    "# free to pro rate\n",
    "free_to_pro_rate = (upgraded_users / total_free_users) * 100 if total_free_users > 0 else 0\n",
    "\n",
    "# results\n",
    "print(f\"Total Free users: {total_free_users}\")\n",
    "print(f\"Total users who upgraded to Pro: {upgraded_users}\")\n",
    "print(f\"Upgrade rate from Free to Pro: {free_to_pro_rate:.2f}%\")"
   ]
  },
  {
   "cell_type": "markdown",
   "id": "1fdd9a78",
   "metadata": {},
   "source": [
    "2. Total monthly revenue from pro users"
   ]
  },
  {
   "cell_type": "code",
   "execution_count": 18,
   "id": "bc649ee2",
   "metadata": {},
   "outputs": [
    {
     "name": "stdout",
     "output_type": "stream",
     "text": [
      "Total Monthly Revenue: $235,481.00\n"
     ]
    }
   ],
   "source": [
    "total_monthly_revenue = df['monthly_revenue'].sum()\n",
    "print(f\"Total Monthly Revenue: ${total_monthly_revenue:,.2f}\")\n"
   ]
  },
  {
   "cell_type": "markdown",
   "id": "5d8d0a3d",
   "metadata": {},
   "source": [
    "3. Pro plan (Basic, Standard, or Enterprise) that contributes the most revenue."
   ]
  },
  {
   "cell_type": "code",
   "execution_count": 19,
   "id": "e859c7d4",
   "metadata": {},
   "outputs": [
    {
     "data": {
      "text/html": [
       "<div>\n",
       "<style scoped>\n",
       "    .dataframe tbody tr th:only-of-type {\n",
       "        vertical-align: middle;\n",
       "    }\n",
       "\n",
       "    .dataframe tbody tr th {\n",
       "        vertical-align: top;\n",
       "    }\n",
       "\n",
       "    .dataframe thead th {\n",
       "        text-align: right;\n",
       "    }\n",
       "</style>\n",
       "<table border=\"1\" class=\"dataframe\">\n",
       "  <thead>\n",
       "    <tr style=\"text-align: right;\">\n",
       "      <th></th>\n",
       "      <th>plan_type</th>\n",
       "      <th>monthly_revenue</th>\n",
       "    </tr>\n",
       "  </thead>\n",
       "  <tbody>\n",
       "    <tr>\n",
       "      <th>0</th>\n",
       "      <td>Basic</td>\n",
       "      <td>80339</td>\n",
       "    </tr>\n",
       "    <tr>\n",
       "      <th>1</th>\n",
       "      <td>Enterprise</td>\n",
       "      <td>78764</td>\n",
       "    </tr>\n",
       "    <tr>\n",
       "      <th>2</th>\n",
       "      <td>Standard</td>\n",
       "      <td>76378</td>\n",
       "    </tr>\n",
       "  </tbody>\n",
       "</table>\n",
       "</div>"
      ],
      "text/plain": [
       "    plan_type  monthly_revenue\n",
       "0       Basic            80339\n",
       "1  Enterprise            78764\n",
       "2    Standard            76378"
      ]
     },
     "execution_count": 19,
     "metadata": {},
     "output_type": "execute_result"
    }
   ],
   "source": [
    "#filter oonly pro plan users\n",
    "pro_users = df[df['plan_type'].isin(['Basic', 'Standard', 'Enterprise'])]\n",
    "\n",
    "# group by plan type and sum revenue\n",
    "revenue_by_plan = pro_users.groupby('plan_type')['monthly_revenue'].sum().reset_index()\n",
    "\n",
    "# sort to find the highest\n",
    "revenue_by_plan = revenue_by_plan.sort_values(by='monthly_revenue', ascending=False)\n",
    "revenue_by_plan"
   ]
  },
  {
   "cell_type": "markdown",
   "id": "8c7ee279",
   "metadata": {},
   "source": [
    "4. How long it takes for Free users to upgrade based on country and engagement level."
   ]
  },
  {
   "cell_type": "code",
   "execution_count": 20,
   "id": "9a818d59",
   "metadata": {},
   "outputs": [
    {
     "name": "stdout",
     "output_type": "stream",
     "text": [
      "\n",
      "Average upgrade time by country:\n",
      "country\n",
      "UK           88\n",
      "USA          90\n",
      "France       91\n",
      "Germany      92\n",
      "India        93\n",
      "Australia    94\n",
      "Canada       94\n",
      "Name: upgrade_time, dtype: int32\n"
     ]
    }
   ],
   "source": [
    "# Users who upgraded\n",
    "free_upgraded = df[df['pro_upgrade_date'].notna()].copy()\n",
    "\n",
    "# Calculate upgrade time in days\n",
    "free_upgraded[\"upgrade_time\"] = (free_upgraded[\"pro_upgrade_date\"] - free_upgraded[\"install_date\"]).dt.days\n",
    "\n",
    "# Upgrade time by country\n",
    "upgrade_time_by_country = (\n",
    "    free_upgraded.groupby(\"country\", observed=False)[\"upgrade_time\"]\n",
    "    .mean()\n",
    "    .round(0)\n",
    "    .astype(int)\n",
    "    .sort_values()\n",
    ")\n",
    "# Print results\n",
    "print(\"\\nAverage upgrade time by country:\")\n",
    "print(upgrade_time_by_country)\n",
    "\n"
   ]
  },
  {
   "cell_type": "markdown",
   "id": "c8c7f24d",
   "metadata": {},
   "source": [
    "- UK users upgrade the fastest (88 days)"
   ]
  },
  {
   "cell_type": "code",
   "execution_count": 21,
   "id": "456f9c95",
   "metadata": {},
   "outputs": [
    {
     "name": "stdout",
     "output_type": "stream",
     "text": [
      "\n",
      "Average upgrade time by engagement level:\n",
      "engagement_level\n",
      "Medium       90\n",
      "High         91\n",
      "Low          92\n",
      "Very High    93\n",
      "Name: upgrade_time, dtype: int32\n"
     ]
    }
   ],
   "source": [
    "# Bin engagement level using quantiles\n",
    "engagement_bins = pd.qcut(df[\"total_sessions\"], q=4, labels=[\"Low\", \"Medium\", \"High\", \"Very High\"])\n",
    "df[\"engagement_level\"] = engagement_bins\n",
    "\n",
    "# Assign binned levels to upgraded users only\n",
    "free_upgraded[\"engagement_level\"] = pd.qcut(free_upgraded[\"total_sessions\"], q=4, labels=[\"Low\", \"Medium\", \"High\", \"Very High\"])\n",
    "\n",
    "# Upgrade time by engagement level\n",
    "upgrade_time_by_engagement = (\n",
    "    free_upgraded.groupby(\"engagement_level\", observed=False)[\"upgrade_time\"]\n",
    "    .mean()\n",
    "    .round(0)\n",
    "    .astype(int)\n",
    "    .sort_values()\n",
    ")\n",
    "print(\"\\nAverage upgrade time by engagement level:\")\n",
    "print(upgrade_time_by_engagement)\n"
   ]
  },
  {
   "cell_type": "markdown",
   "id": "3b3c8536",
   "metadata": {},
   "source": [
    "- users with **medium engagement** upgraded the fastest, while **very high engagement users** took the longest to upgrade."
   ]
  },
  {
   "cell_type": "markdown",
   "id": "643948de",
   "metadata": {},
   "source": [
    "5. If WPPOOL increases the landing page conversion rate by 10%, what would be the estimated impact on Pro upgrades"
   ]
  },
  {
   "cell_type": "code",
   "execution_count": 22,
   "id": "8ee0abe2",
   "metadata": {},
   "outputs": [],
   "source": [
    "def estimate_pro_upgrades(visitor_count, landing_conversion_rate, upgrade_rate, increase_percent=10):\n",
    "   \n",
    "    # Current number of Free users per month\n",
    "    current_free_users = visitor_count * landing_conversion_rate\n",
    "    \n",
    "    # New conversion rate after increase\n",
    "    new_conversion_rate = landing_conversion_rate * (1 + increase_percent / 100)\n",
    "    \n",
    "    # New Free users per month\n",
    "    new_free_users = visitor_count * new_conversion_rate\n",
    "    \n",
    "    # Current and new Pro upgrades\n",
    "    current_pro_upgrades = current_free_users * upgrade_rate\n",
    "    new_pro_upgrades = new_free_users * upgrade_rate\n",
    "    \n",
    "    # Increase in Pro upgrades\n",
    "    pro_upgrade_increase = new_pro_upgrades - current_pro_upgrades\n",
    "    \n",
    "    return {\n",
    "        \"Current Free Users\": round(current_free_users),\n",
    "        \"New Free Users\": round(new_free_users),\n",
    "        \"Current Pro Upgrades\": round(current_pro_upgrades),\n",
    "        \"New Pro Upgrades\": round(new_pro_upgrades),\n",
    "        \"Increase in Pro Upgrades\": round(pro_upgrade_increase)\n",
    "    }\n"
   ]
  },
  {
   "cell_type": "code",
   "execution_count": 23,
   "id": "3a2dc028",
   "metadata": {},
   "outputs": [
    {
     "name": "stdout",
     "output_type": "stream",
     "text": [
      "{'Current Free Users': 5000, 'New Free Users': 5500, 'Current Pro Upgrades': 400, 'New Pro Upgrades': 440, 'Increase in Pro Upgrades': 40}\n"
     ]
    }
   ],
   "source": [
    "# Example usage\n",
    "visitor_count = 100000  # Monthly visitors\n",
    "landing_conversion_rate = 0.05  # 5% conversion rate\n",
    "upgrade_rate = 0.08  # 8% Free-to-Pro conversion rate\n",
    "increase_percent = 10  # 10% boost in landing page conversion rate\n",
    "\n",
    "impact = estimate_pro_upgrades(visitor_count, landing_conversion_rate, upgrade_rate, increase_percent)\n",
    "print(impact)"
   ]
  },
  {
   "cell_type": "markdown",
   "id": "4e7effc4",
   "metadata": {},
   "source": [
    "Insights from the above:\n",
    "- 10% boost in landing page conversion = 10% more free users\n",
    "\n",
    "    - Free users rise from 5,000 → 5,500\n",
    "\n",
    "    - This is a direct impact of improved landing page effectiveness\n",
    "\n",
    "- 💰 Resulting in 40 more Pro upgrades per month\n",
    "\n",
    "    - Even though the free-to-Pro upgrade rate remains constant (8%), the volume increase leads to 40 more conversions\n",
    "\n",
    "- 📉 Marginal gains add up\n",
    "\n",
    "    - A small lift in top-of-funnel performance (landing page) leads to compounded growth in revenue-driving upgrades\n",
    "\n",
    "- 📊 ROI Opportunity\n",
    "\n",
    "    - If each Pro upgrade generates revenue, this uplift could justify investment in conversion optimization, such as A/B testing or landing page redesign\n",
    "\n",
    "- ⚠️ Conversion rate drives user acquisition efficiency\n",
    "\n",
    "    - A seemingly small % increase has a multiplying effect when visitor volumes are high (e.g., 100k+)\n",
    "\n"
   ]
  },
  {
   "cell_type": "markdown",
   "id": "b376b048",
   "metadata": {},
   "source": [
    "6. Run a simple A/B test simulation (e.g., using a chi-square test) to evaluate conversion optimization."
   ]
  },
  {
   "cell_type": "code",
   "execution_count": 24,
   "id": "8bee7fe0",
   "metadata": {},
   "outputs": [],
   "source": [
    "\n",
    "def run_ab_test(control_conversions, control_visitors, test_conversions, test_visitors):\n",
    "    \"\"\"\n",
    "    Perform a chi-square test to evaluate A/B test results.\n",
    "    \n",
    "    :param control_conversions: Number of conversions in control group\n",
    "    :param control_visitors: Number of visitors in control group\n",
    "    :param test_conversions: Number of conversions in test group\n",
    "    :param test_visitors: Number of visitors in test group\n",
    "    :return: Dictionary with test statistics and interpretation\n",
    "    \"\"\"\n",
    "    # Create contingency table\n",
    "    contingency_table = [\n",
    "        [control_conversions, control_visitors - control_conversions],\n",
    "        [test_conversions, test_visitors - test_conversions]\n",
    "    ]\n",
    "    \n",
    "    # Run Chi-Square test\n",
    "    chi2, p, dof, expected = stats.chi2_contingency(contingency_table)\n",
    "    \n",
    "    # Conversion rates\n",
    "    control_rate = (control_conversions / control_visitors) * 100\n",
    "    test_rate = (test_conversions / test_visitors) * 100\n",
    "    lift = test_rate - control_rate\n",
    "\n",
    "    # Interpret the result\n",
    "    significance = \"✅ Statistically Significant\" if p < 0.05 else \"❌ Not Statistically Significant\"\n",
    "\n",
    "    # Return summary\n",
    "    return {\n",
    "        \"Control Conversion Rate (%)\": round(control_rate, 2),\n",
    "        \"Test Conversion Rate (%)\": round(test_rate, 2),\n",
    "        \"Lift (%)\": round(lift, 2),\n",
    "        \"Chi-Square Statistic\": round(chi2, 4),\n",
    "        \"P-Value\": round(p, 4),\n",
    "        \"Degrees of Freedom\": dof,\n",
    "        \"Significance\": significance,\n",
    "        \"Expected Frequencies\": expected\n",
    "    }\n",
    "\n"
   ]
  },
  {
   "cell_type": "code",
   "execution_count": 25,
   "id": "9ac66794",
   "metadata": {},
   "outputs": [
    {
     "name": "stdout",
     "output_type": "stream",
     "text": [
      "Control Conversion Rate (%): 5.0\n",
      "Test Conversion Rate (%): 5.6\n",
      "Lift (%): 0.6\n",
      "Chi-Square Statistic: 17.8122\n",
      "P-Value: 0.0\n",
      "Degrees of Freedom: 1\n",
      "Significance: ✅ Statistically Significant\n",
      "Expected Frequencies: [[ 2650. 47350.]\n",
      " [ 2650. 47350.]]\n"
     ]
    }
   ],
   "source": [
    "# 🔁 Example A/B test scenario\n",
    "control_conversions = 2500\n",
    "control_visitors = 50000\n",
    "\n",
    "test_conversions = 2800\n",
    "test_visitors = 50000\n",
    "\n",
    "# Run test and print result\n",
    "ab_test_results = run_ab_test(control_conversions, control_visitors, test_conversions, test_visitors)\n",
    "for key, value in ab_test_results.items():\n",
    "    print(f\"{key}: {value}\")\n"
   ]
  },
  {
   "cell_type": "markdown",
   "id": "d6e06a21",
   "metadata": {},
   "source": [
    "Insights from the above:\n",
    "- 📈 The Test Variant Outperformed the Control\n",
    "\n",
    "    - A conversion rate increase from 5.0% to 5.6% indicates a 12% relative improvement in performance.\n",
    "\n",
    "- ✅ The Lift Is Statistically Significant\n",
    "\n",
    "    - The p-value = 0.0000 shows the improvement is not due to random chance.\n",
    "\n",
    "    - With χ² = 17.81, this is strong evidence that the test version is better.\n",
    "\n",
    "- 📊 Business Impact Potential\n",
    "\n",
    "    - Even a 0.6 percentage point lift translates to a large number of new conversions at scale.\n",
    "\n",
    "    - For every 100,000 visitors, that's 600 more conversions — which could drive substantial revenue growth.\n",
    "\n",
    "- 🧪 The Test Should Be Rolled Out\n",
    "\n",
    "    - Given the statistically significant lift, WPPOOL should adopt the test version (e.g., new landing page, headline, or CTA) for all users.\n",
    "\n"
   ]
  }
 ],
 "metadata": {
  "kernelspec": {
   "display_name": "Python (learn-env)",
   "language": "python",
   "name": "learn-env"
  },
  "language_info": {
   "codemirror_mode": {
    "name": "ipython",
    "version": 3
   },
   "file_extension": ".py",
   "mimetype": "text/x-python",
   "name": "python",
   "nbconvert_exporter": "python",
   "pygments_lexer": "ipython3",
   "version": "3.8.5"
  }
 },
 "nbformat": 4,
 "nbformat_minor": 5
}
